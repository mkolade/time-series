{
 "cells": [
  {
   "cell_type": "markdown",
   "id": "26de6c6e",
   "metadata": {},
   "source": [
    "Test / Example"
   ]
  },
  {
   "cell_type": "code",
   "execution_count": null,
   "id": "bde97c03",
   "metadata": {},
   "outputs": [
    {
     "data": {
      "text/plain": [
       "[1, 2, 23]"
      ]
     },
     "execution_count": 3,
     "metadata": {},
     "output_type": "execute_result"
    }
   ],
   "source": [
    "x = [1,2,23]\n",
    "x"
   ]
  },
  {
   "cell_type": "markdown",
   "id": "51d5b190",
   "metadata": {},
   "source": [
    "Importing our Packages"
   ]
  },
  {
   "cell_type": "code",
   "execution_count": null,
   "id": "ac7d5eb7",
   "metadata": {},
   "outputs": [],
   "source": [
    "import pandas as pd\n",
    "import numpy as np\n",
    "\n"
   ]
  },
  {
   "cell_type": "markdown",
   "id": "06848263",
   "metadata": {},
   "source": [
    "Importing and copying our data"
   ]
  },
  {
   "cell_type": "code",
   "execution_count": 5,
   "id": "9b006ffb",
   "metadata": {},
   "outputs": [],
   "source": [
    "raw_csv_data = pd.read_csv(\"./dataSets/Index2018.csv\")\n",
    "df_comp = raw_csv_data.copy()"
   ]
  },
  {
   "cell_type": "code",
   "execution_count": null,
   "id": "a72c1c74",
   "metadata": {},
   "outputs": [],
   "source": []
  }
 ],
 "metadata": {
  "kernelspec": {
   "display_name": "venv",
   "language": "python",
   "name": "python3"
  },
  "language_info": {
   "codemirror_mode": {
    "name": "ipython",
    "version": 3
   },
   "file_extension": ".py",
   "mimetype": "text/x-python",
   "name": "python",
   "nbconvert_exporter": "python",
   "pygments_lexer": "ipython3",
   "version": "3.9.6"
  }
 },
 "nbformat": 4,
 "nbformat_minor": 5
}
